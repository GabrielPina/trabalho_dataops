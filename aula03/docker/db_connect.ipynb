{
 "cells": [
  {
   "cell_type": "code",
   "execution_count": null,
   "metadata": {},
   "outputs": [],
   "source": [
    "import MySQLdb"
   ]
  },
  {
   "cell_type": "code",
   "execution_count": null,
   "metadata": {},
   "outputs": [],
   "source": [
    "\n",
    "db = MySQLdb.connect(host=\"localhost\",    # your host, usually localhost\n",
    "                     user=\"john\",         # your username\n",
    "                     passwd=\"megajonhy\",  # your password\n",
    "                     db=\"jonhydb\")        # name of the data base\n",
    "\n",
    "# you must create a Cursor object. It will let\n",
    "#  you execute all the queries you need\n",
    "cur = db.cursor()"
   ]
  },
  {
   "cell_type": "code",
   "execution_count": null,
   "metadata": {},
   "outputs": [],
   "source": [
    "# Use all the SQL you like\n",
    "cur.execute(\"SELECT * FROM YOUR_TABLE_NAME\")\n",
    "\n",
    "# print all the first cell of all the rows\n",
    "for row in cur.fetchall():\n",
    "    print row[0]\n"
   ]
  },
  {
   "cell_type": "code",
   "execution_count": null,
   "metadata": {},
   "outputs": [],
   "source": [
    "db.close()"
   ]
  }
 ],
 "metadata": {
  "language_info": {
   "name": "python"
  }
 },
 "nbformat": 4,
 "nbformat_minor": 2
}
